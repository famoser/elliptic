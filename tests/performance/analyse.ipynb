{
 "cells": [
  {
   "cell_type": "markdown",
   "metadata": {
    "collapsed": false,
    "id": "Ye4wMtzYAkqC",
    "jupyter": {
     "outputs_hidden": false
    }
   },
   "source": "# Performance assessment"
  },
  {
   "metadata": {},
   "cell_type": "markdown",
   "source": [
    "## 1. Collect the measurements\n",
    "\n",
    "First, we need to collect as clean measurements as possible.\n",
    "\n",
    "Prepare your system:\n",
    "- Disable turboboost (check `intel_pstate` is the active driver with `cat /sys/devices/system/cpu/cpu*/cpufreq/scaling_driver`; then execute `echo \"1\" | sudo tee /sys/devices/system/cpu/intel_pstate/no_turbo`; revert after measurement)\n",
    "- Fix the frequency of some core using `cpupower frequency-set -d 1900Mhz`\n",
    "- Set `echo 1000000 > /proc/sys/kernel/sched_rt_runtime_us` to enable real-time process to use 100% of CPU (no scheduling)\n",
    "- Start the process with `taskset --cpu-list 2 chrt -f 99 php tests/performance/bin.php` (run on core 2 as a real-time process)"
   ]
  },
  {
   "cell_type": "markdown",
   "metadata": {
    "collapsed": false,
    "id": "1G2zkbhcAkqE",
    "jupyter": {
     "outputs_hidden": false
    }
   },
   "source": [
    "## 2. Load & cleanup data\n",
    "\n",
    "First, we cleanup the data to remove outliers."
   ]
  },
  {
   "metadata": {
    "collapsed": false,
    "executionInfo": {
     "elapsed": 2099,
     "status": "ok",
     "timestamp": 1751205924984,
     "user": {
      "displayName": "Senna",
      "userId": "14138385601242009551"
     },
     "user_tz": -120
    },
    "id": "hdXdx62rAkqD",
    "jupyter": {
     "outputs_hidden": false
    }
   },
   "cell_type": "code",
   "source": [
    "import matplotlib.pyplot as plt\n",
    "import numpy as np\n",
    "import json\n",
    "import os\n",
    "import math as mathlib"
   ],
   "outputs": [],
   "execution_count": null
  },
  {
   "metadata": {
    "colab": {
     "base_uri": "https://localhost:8080/",
     "height": 315
    },
    "collapsed": false,
    "executionInfo": {
     "elapsed": 46,
     "status": "error",
     "timestamp": 1751205925023,
     "user": {
      "displayName": "Senna",
      "userId": "14138385601242009551"
     },
     "user_tz": -120
    },
    "id": "7ZOG0xpRAkqD",
    "jupyter": {
     "outputs_hidden": false
    },
    "outputId": "bffbf937-5167-4736-a2fc-0291fe4cd5c0"
   },
   "cell_type": "code",
   "source": [
    "def load_json_from_file(file_path):\n",
    "  with open(file_path, 'r') as f:\n",
    "    return json.load(f)\n",
    "\n",
    "iterations = 1000\n",
    "measurements = []\n",
    "for file in os.listdir('measurements'):\n",
    "    if file.endswith(\"_\" + str(iterations) + \".json\"):\n",
    "        full_path = os.path.join('measurements', file)\n",
    "        content = load_json_from_file(full_path)\n",
    "        measurements.append(content)"
   ],
   "outputs": [],
   "execution_count": null
  },
  {
   "metadata": {},
   "cell_type": "markdown",
   "source": [
    "### 2.1 Filter outliers\n",
    "\n",
    "Each measurement should have more or less the same timing.\n",
    "\n",
    "On a real machine, reaching this is hard, even when configuring it properly (see chapter 1). Hence we remove outlier measurements. You can adjust the aggressiveness with the following parameter: `selectivity` defines how many iterations are kept, i.e. only one out of `selectivity` measurements."
   ]
  },
  {
   "metadata": {},
   "cell_type": "code",
   "source": [
    "def clean_measurement(measurement, selectivity):\n",
    "    sorted_measurements = sorted(measurement['measurements'])\n",
    "    selectivity_index = int(len(sorted_measurements) / (selectivity * 2))\n",
    "    lower_bound = sorted_measurements[selectivity_index]\n",
    "    upper_bound = sorted_measurements[selectivity_index*3]\n",
    "\n",
    "    cleaned_measurements = [m for m in measurement['measurements'] if lower_bound <= m <= upper_bound]\n",
    "\n",
    "    cleaned_measurement = measurement.copy()\n",
    "    cleaned_measurement['measurements'] = cleaned_measurements\n",
    "\n",
    "    return cleaned_measurement\n",
    "\n",
    "selectivity = 2\n",
    "\n",
    "clean_measurements = []\n",
    "for measurement in measurements:\n",
    "    cleaned_measurement = clean_measurement(measurement, selectivity)\n",
    "    clean_measurements.append(cleaned_measurement)"
   ],
   "outputs": [],
   "execution_count": null
  },
  {
   "metadata": {},
   "cell_type": "markdown",
   "source": "**Check the graph.** If the outlier filtering is effective, then the timings should all be very similar. Concretely, you should see a graphs that are all essentially just noise (lots of blue, almost filling out the graph)."
  },
  {
   "metadata": {},
   "cell_type": "code",
   "source": [
    "columns = 3\n",
    "rows = mathlib.ceil(len(clean_measurements) / columns)\n",
    "fig, axes = plt.subplots(rows, columns, figsize=(14, 5*rows))\n",
    "\n",
    "for row in range(0, rows):\n",
    "    for column in range(0, columns):\n",
    "        axe = axes[row][column]\n",
    "        measurement_index = row * columns + column\n",
    "        if measurement_index >= len(clean_measurements):\n",
    "            fig.delaxes(axe)\n",
    "            continue\n",
    "        measurement = clean_measurements[measurement_index]\n",
    "\n",
    "        axe.plot(measurement[\"measurements\"], label=f'measurements of {measurement[\"math\"]} over {measurement[\"curve\"]}')\n",
    "        axe.set_xlabel('measurement')\n",
    "        axe.set_ylabel('time')\n",
    "        axe.legend()\n",
    "\n",
    "plt.show()"
   ],
   "outputs": [],
   "execution_count": null
  },
  {
   "metadata": {},
   "cell_type": "markdown",
   "source": [
    "### 3. Assess performance\n",
    "\n",
    "If chapter 2 does not show signs of a botched measurement, we can now proceed to assess the measurement result."
   ]
  },
  {
   "metadata": {},
   "cell_type": "code",
   "source": [
    "averages = {}\n",
    "for measurement in clean_measurements:\n",
    "    average = __builtins__.sum(measurement['measurements']) / len(measurements)\n",
    "\n",
    "    curve = measurement['curve']\n",
    "    if curve not in averages:\n",
    "        averages[curve] = {}\n",
    "\n",
    "    math = measurement['math']\n",
    "    if math not in averages[curve]:\n",
    "        averages[curve][math] = {}\n",
    "\n",
    "    averages[curve][math] = average"
   ],
   "outputs": [],
   "execution_count": null
  },
  {
   "metadata": {},
   "cell_type": "markdown",
   "source": [
    "### 3.1. Graphical\n",
    "\n",
    "We output the performance in graphs per curve type."
   ]
  },
  {
   "metadata": {},
   "cell_type": "code",
   "source": [
    "math_combinations = []\n",
    "for curve in averages:\n",
    "    graph_template = averages[curve].keys()\n",
    "\n",
    "    exists = False\n",
    "    for existing_math_combination in math_combinations:\n",
    "        if set(existing_math_combination) == set(graph_template):\n",
    "            exists = True\n",
    "            break\n",
    "\n",
    "    if not exists:\n",
    "        unsafe_math = sorted([x for x in graph_template if x.endswith('UnsafeMath')])\n",
    "        other_math = sorted([x for x in graph_template if not x.endswith('UnsafeMath')])\n",
    "\n",
    "        math_combinations.append(unsafe_math + other_math)"
   ],
   "outputs": [],
   "execution_count": null
  },
  {
   "cell_type": "code",
   "metadata": {
    "collapsed": false,
    "id": "6sEEKDtMAkqE",
    "jupyter": {
     "outputs_hidden": false
    },
    "outputId": "ee0b0306-b3c8-428f-e4d7-debeec70a158"
   },
   "source": [
    "columns = 2\n",
    "rows = mathlib.ceil(len(math_combinations) / columns)\n",
    "fig, axes = plt.subplots(rows, columns, figsize=(14, 5*rows))\n",
    "\n",
    "for row in range(0, rows):\n",
    "    for column in range(0, columns):\n",
    "        axe = axes[row][column]\n",
    "        math_combination_index = row * columns + column\n",
    "        if math_combination_index >= len(math_combinations):\n",
    "            fig.delaxes(axe)\n",
    "            continue\n",
    "        math_combination = math_combinations[math_combination_index]\n",
    "\n",
    "        relevant_averages = {}\n",
    "        for curve in sorted(averages.keys()):\n",
    "            if set(averages[curve].keys()) != set(math_combination):\n",
    "                continue\n",
    "\n",
    "            relevant_averages[curve] = averages[curve]\n",
    "\n",
    "        math_averages = {}\n",
    "        for math in math_combination:\n",
    "            math_averages[math] = []\n",
    "\n",
    "        for curve in sorted(relevant_averages.keys()):\n",
    "            for math in relevant_averages[curve]:\n",
    "                math_averages[math].append(relevant_averages[curve][math])\n",
    "\n",
    "        w, x = 1/(len(math_averages)+1), np.arange(len(relevant_averages))\n",
    "        for index, math in enumerate(math_averages):\n",
    "            axe.bar(x + w*index - (len(math_averages)-1)*w/2, math_averages[math], width=w, label=f'{math}')\n",
    "        axe.set_ylabel('time')\n",
    "        axe.set_xticks(x)\n",
    "        axe.set_xticklabels(sorted(relevant_averages.keys()))\n",
    "        axe.legend()\n",
    "\n",
    "        axe.tick_params(axis='x', rotation=20)\n",
    "\n",
    "plt.show()"
   ],
   "outputs": [],
   "execution_count": null
  },
  {
   "metadata": {},
   "cell_type": "markdown",
   "source": [
    "## 3.2 Tabular\n",
    "\n",
    "Visualized as table"
   ]
  },
  {
   "metadata": {},
   "cell_type": "code",
   "source": [
    "for math_combination in math_combinations:\n",
    "    header = '|   |'\n",
    "    subheader = '|---|'\n",
    "    for math in math_combination:\n",
    "        header += \"`\" + str(math) + \"` |\"\n",
    "        subheader += '---|'\n",
    "    print(header)\n",
    "    print(subheader)\n",
    "\n",
    "    for curve in sorted(averages.keys()):\n",
    "        if set(averages[curve].keys()) != set(math_combination):\n",
    "            continue\n",
    "\n",
    "        row = '|`' + curve + \"`|\"\n",
    "        for math in math_combination:\n",
    "            row += str(round(averages[curve][math], 3)) + \"|\"\n",
    "        print(row)\n",
    "\n",
    "    print(\"\\n\\n\")"
   ],
   "outputs": [],
   "execution_count": null
  },
  {
   "metadata": {},
   "cell_type": "code",
   "source": "",
   "outputs": [],
   "execution_count": null
  }
 ],
 "metadata": {
  "colab": {
   "provenance": []
  },
  "kernelspec": {
   "display_name": "Python 3 (ipykernel)",
   "language": "python",
   "name": "python3"
  },
  "language_info": {
   "codemirror_mode": {
    "name": "ipython",
    "version": 3
   },
   "file_extension": ".py",
   "mimetype": "text/x-python",
   "name": "python",
   "nbconvert_exporter": "python",
   "pygments_lexer": "ipython3",
   "version": "3.13.5"
  }
 },
 "nbformat": 4,
 "nbformat_minor": 4
}
